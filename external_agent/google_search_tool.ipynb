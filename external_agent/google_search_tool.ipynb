{
 "cells": [
  {
   "cell_type": "code",
   "execution_count": null,
   "id": "a0bd305e",
   "metadata": {},
   "outputs": [],
   "source": [
    "import os\n",
    "\n",
    "os.environ[\"GOOGLE_CSE_ID\"] = \"\"\n",
    "os.environ[\"GOOGLE_API_KEY\"] = \"\""
   ]
  },
  {
   "cell_type": "code",
   "execution_count": 8,
   "id": "a48025d0",
   "metadata": {},
   "outputs": [],
   "source": [
    "from langchain_core.tools import Tool\n",
    "from langchain_google_community import GoogleSearchAPIWrapper\n",
    "\n",
    "search = GoogleSearchAPIWrapper()\n",
    "\n",
    "tool = Tool(\n",
    "    name=\"google_search\",\n",
    "    description=\"Search Google for recent results.\",\n",
    "    func=search.run,\n",
    ")"
   ]
  },
  {
   "cell_type": "code",
   "execution_count": 9,
   "id": "2bce676a",
   "metadata": {},
   "outputs": [
    {
     "data": {
      "text/plain": [
       "'Child\\'s First Name (Type or print) lb. Middle Name. BARACK. HUSSEIN. CERTIFICATE OF LIVE BIRTH. FILE 151. NUMBER le. DEPARTMENT OF HEALTH. 61. 10641. Last Name. A member of the Democratic Party, he was the first African American president. Obama previously served as a U.S. senator representing Illinois from 2005 to 2008\\xa0... Full name: Barack Hussein Obama Born: 4 August 1961, Honolulu, HI, USA Date ... The first atom bombs – “Fat Man” and “Little Boy” – were used against\\xa0... President Barack Obama, First Lady Michelle Obama, and their daughters, Malia, left, and Sasha, right, sit for a family portrait in the Oval Office,\\xa0... Barack Obama ; Barack Hussein Obama II. (1961-08-04) August 4, 1961 (age 63) Honolulu, Hawaii, U.S. · Democratic · Michelle Robinson. \\u200b. ( m. · 1992)\\u200b · Malia\\xa0... Apr 12, 2017 ... Hussein, Obama\\'s middle name, is a very common Arabic name, meaning \"good,\" \"handsome,\" or \"beautiful.\" Obama\\'s father was a Muslim, and it\\xa0... No matter how many times Obama insists he\\'s a Christian, bigots\\' panties get twisted tighter than the turban in that recent photo intended to “slander” the\\xa0... 3 days ago ... Early life · In full: Barack Hussein Obama II · Born: August 4, 1961, Honolulu, Hawaii, U.S. (age 63) · Title / Office: presidency of the United\\xa0... Jan 28, 2021 ... Obama\\'s name (particularly his middle name Hussein) was the object of xenophobic innuendo questioning his loyalty (especially in the context of\\xa0... Jan 19, 2017 ... Hopeful parents named their sons for the first Black president, whose name is a variation of the Hebrew name Baruch, which means “blessed”\\xa0...'"
      ]
     },
     "execution_count": 9,
     "metadata": {},
     "output_type": "execute_result"
    }
   ],
   "source": [
    "tool.run(\"Obama's first name?\")"
   ]
  },
  {
   "cell_type": "code",
   "execution_count": 4,
   "id": "b1d47a6c",
   "metadata": {},
   "outputs": [
    {
     "name": "stdout",
     "output_type": "stream",
     "text": [
      "Collecting langchain_google_community\n",
      "  Downloading langchain_google_community-2.0.7-py3-none-any.whl.metadata (3.5 kB)\n",
      "Collecting google-api-core<3.0.0,>=2.24.1 (from langchain_google_community)\n",
      "  Downloading google_api_core-2.25.1-py3-none-any.whl.metadata (3.0 kB)\n",
      "Collecting google-api-python-client<3.0.0,>=2.161.0 (from langchain_google_community)\n",
      "  Downloading google_api_python_client-2.176.0-py3-none-any.whl.metadata (7.0 kB)\n",
      "Collecting google-cloud-core<3.0.0,>=2.4.2 (from langchain_google_community)\n",
      "  Downloading google_cloud_core-2.4.3-py2.py3-none-any.whl.metadata (2.7 kB)\n",
      "Requirement already satisfied: grpcio<2.0.0,>=1.70.0 in /Users/abhilashamangal/miniconda3/envs/agenticai/lib/python3.12/site-packages (from langchain_google_community) (1.72.1)\n",
      "Requirement already satisfied: langchain-community<0.4.0,>=0.3.0 in /Users/abhilashamangal/miniconda3/envs/agenticai/lib/python3.12/site-packages (from langchain_google_community) (0.3.24)\n",
      "Requirement already satisfied: langchain-core<0.4,>=0.3.0 in /Users/abhilashamangal/miniconda3/envs/agenticai/lib/python3.12/site-packages (from langchain_google_community) (0.3.61)\n",
      "Requirement already satisfied: googleapis-common-protos<2.0.0,>=1.56.2 in /Users/abhilashamangal/miniconda3/envs/agenticai/lib/python3.12/site-packages (from google-api-core<3.0.0,>=2.24.1->langchain_google_community) (1.70.0)\n",
      "Requirement already satisfied: protobuf!=3.20.0,!=3.20.1,!=4.21.0,!=4.21.1,!=4.21.2,!=4.21.3,!=4.21.4,!=4.21.5,<7.0.0,>=3.19.5 in /Users/abhilashamangal/miniconda3/envs/agenticai/lib/python3.12/site-packages (from google-api-core<3.0.0,>=2.24.1->langchain_google_community) (5.29.5)\n",
      "Collecting proto-plus<2.0.0,>=1.22.3 (from google-api-core<3.0.0,>=2.24.1->langchain_google_community)\n",
      "  Downloading proto_plus-1.26.1-py3-none-any.whl.metadata (2.2 kB)\n",
      "Requirement already satisfied: google-auth<3.0.0,>=2.14.1 in /Users/abhilashamangal/miniconda3/envs/agenticai/lib/python3.12/site-packages (from google-api-core<3.0.0,>=2.24.1->langchain_google_community) (2.40.2)\n",
      "Requirement already satisfied: requests<3.0.0,>=2.18.0 in /Users/abhilashamangal/miniconda3/envs/agenticai/lib/python3.12/site-packages (from google-api-core<3.0.0,>=2.24.1->langchain_google_community) (2.32.2)\n",
      "Collecting httplib2<1.0.0,>=0.19.0 (from google-api-python-client<3.0.0,>=2.161.0->langchain_google_community)\n",
      "  Using cached httplib2-0.22.0-py3-none-any.whl.metadata (2.6 kB)\n",
      "Collecting google-auth-httplib2<1.0.0,>=0.2.0 (from google-api-python-client<3.0.0,>=2.161.0->langchain_google_community)\n",
      "  Downloading google_auth_httplib2-0.2.0-py2.py3-none-any.whl.metadata (2.2 kB)\n",
      "Collecting uritemplate<5,>=3.0.1 (from google-api-python-client<3.0.0,>=2.161.0->langchain_google_community)\n",
      "  Downloading uritemplate-4.2.0-py3-none-any.whl.metadata (2.6 kB)\n",
      "Requirement already satisfied: cachetools<6.0,>=2.0.0 in /Users/abhilashamangal/miniconda3/envs/agenticai/lib/python3.12/site-packages (from google-auth<3.0.0,>=2.14.1->google-api-core<3.0.0,>=2.24.1->langchain_google_community) (5.5.2)\n",
      "Requirement already satisfied: pyasn1-modules>=0.2.1 in /Users/abhilashamangal/miniconda3/envs/agenticai/lib/python3.12/site-packages (from google-auth<3.0.0,>=2.14.1->google-api-core<3.0.0,>=2.24.1->langchain_google_community) (0.4.2)\n",
      "Requirement already satisfied: rsa<5,>=3.1.4 in /Users/abhilashamangal/miniconda3/envs/agenticai/lib/python3.12/site-packages (from google-auth<3.0.0,>=2.14.1->google-api-core<3.0.0,>=2.24.1->langchain_google_community) (4.9.1)\n",
      "Collecting pyparsing!=3.0.0,!=3.0.1,!=3.0.2,!=3.0.3,<4,>=2.4.2 (from httplib2<1.0.0,>=0.19.0->google-api-python-client<3.0.0,>=2.161.0->langchain_google_community)\n",
      "  Downloading pyparsing-3.2.3-py3-none-any.whl.metadata (5.0 kB)\n",
      "Requirement already satisfied: langchain<1.0.0,>=0.3.25 in /Users/abhilashamangal/miniconda3/envs/agenticai/lib/python3.12/site-packages (from langchain-community<0.4.0,>=0.3.0->langchain_google_community) (0.3.25)\n",
      "Requirement already satisfied: SQLAlchemy<3,>=1.4 in /Users/abhilashamangal/miniconda3/envs/agenticai/lib/python3.12/site-packages (from langchain-community<0.4.0,>=0.3.0->langchain_google_community) (2.0.41)\n",
      "Requirement already satisfied: PyYAML>=5.3 in /Users/abhilashamangal/miniconda3/envs/agenticai/lib/python3.12/site-packages (from langchain-community<0.4.0,>=0.3.0->langchain_google_community) (6.0.2)\n",
      "Requirement already satisfied: aiohttp<4.0.0,>=3.8.3 in /Users/abhilashamangal/miniconda3/envs/agenticai/lib/python3.12/site-packages (from langchain-community<0.4.0,>=0.3.0->langchain_google_community) (3.11.18)\n",
      "Requirement already satisfied: tenacity!=8.4.0,<10,>=8.1.0 in /Users/abhilashamangal/miniconda3/envs/agenticai/lib/python3.12/site-packages (from langchain-community<0.4.0,>=0.3.0->langchain_google_community) (9.1.2)\n",
      "Requirement already satisfied: dataclasses-json<0.7,>=0.5.7 in /Users/abhilashamangal/miniconda3/envs/agenticai/lib/python3.12/site-packages (from langchain-community<0.4.0,>=0.3.0->langchain_google_community) (0.6.7)\n",
      "Requirement already satisfied: pydantic-settings<3.0.0,>=2.4.0 in /Users/abhilashamangal/miniconda3/envs/agenticai/lib/python3.12/site-packages (from langchain-community<0.4.0,>=0.3.0->langchain_google_community) (2.9.1)\n",
      "Requirement already satisfied: langsmith<0.4,>=0.1.125 in /Users/abhilashamangal/miniconda3/envs/agenticai/lib/python3.12/site-packages (from langchain-community<0.4.0,>=0.3.0->langchain_google_community) (0.3.42)\n",
      "Requirement already satisfied: httpx-sse<1.0.0,>=0.4.0 in /Users/abhilashamangal/miniconda3/envs/agenticai/lib/python3.12/site-packages (from langchain-community<0.4.0,>=0.3.0->langchain_google_community) (0.4.0)\n",
      "Requirement already satisfied: numpy>=1.26.2 in /Users/abhilashamangal/miniconda3/envs/agenticai/lib/python3.12/site-packages (from langchain-community<0.4.0,>=0.3.0->langchain_google_community) (2.2.6)\n",
      "Requirement already satisfied: aiohappyeyeballs>=2.3.0 in /Users/abhilashamangal/miniconda3/envs/agenticai/lib/python3.12/site-packages (from aiohttp<4.0.0,>=3.8.3->langchain-community<0.4.0,>=0.3.0->langchain_google_community) (2.6.1)\n",
      "Requirement already satisfied: aiosignal>=1.1.2 in /Users/abhilashamangal/miniconda3/envs/agenticai/lib/python3.12/site-packages (from aiohttp<4.0.0,>=3.8.3->langchain-community<0.4.0,>=0.3.0->langchain_google_community) (1.3.2)\n",
      "Requirement already satisfied: attrs>=17.3.0 in /Users/abhilashamangal/miniconda3/envs/agenticai/lib/python3.12/site-packages (from aiohttp<4.0.0,>=3.8.3->langchain-community<0.4.0,>=0.3.0->langchain_google_community) (25.3.0)\n",
      "Requirement already satisfied: frozenlist>=1.1.1 in /Users/abhilashamangal/miniconda3/envs/agenticai/lib/python3.12/site-packages (from aiohttp<4.0.0,>=3.8.3->langchain-community<0.4.0,>=0.3.0->langchain_google_community) (1.6.0)\n",
      "Requirement already satisfied: multidict<7.0,>=4.5 in /Users/abhilashamangal/miniconda3/envs/agenticai/lib/python3.12/site-packages (from aiohttp<4.0.0,>=3.8.3->langchain-community<0.4.0,>=0.3.0->langchain_google_community) (6.4.4)\n",
      "Requirement already satisfied: propcache>=0.2.0 in /Users/abhilashamangal/miniconda3/envs/agenticai/lib/python3.12/site-packages (from aiohttp<4.0.0,>=3.8.3->langchain-community<0.4.0,>=0.3.0->langchain_google_community) (0.3.1)\n",
      "Requirement already satisfied: yarl<2.0,>=1.17.0 in /Users/abhilashamangal/miniconda3/envs/agenticai/lib/python3.12/site-packages (from aiohttp<4.0.0,>=3.8.3->langchain-community<0.4.0,>=0.3.0->langchain_google_community) (1.20.0)\n",
      "Requirement already satisfied: marshmallow<4.0.0,>=3.18.0 in /Users/abhilashamangal/miniconda3/envs/agenticai/lib/python3.12/site-packages (from dataclasses-json<0.7,>=0.5.7->langchain-community<0.4.0,>=0.3.0->langchain_google_community) (3.26.1)\n",
      "Requirement already satisfied: typing-inspect<1,>=0.4.0 in /Users/abhilashamangal/miniconda3/envs/agenticai/lib/python3.12/site-packages (from dataclasses-json<0.7,>=0.5.7->langchain-community<0.4.0,>=0.3.0->langchain_google_community) (0.9.0)\n",
      "Requirement already satisfied: langchain-text-splitters<1.0.0,>=0.3.8 in /Users/abhilashamangal/miniconda3/envs/agenticai/lib/python3.12/site-packages (from langchain<1.0.0,>=0.3.25->langchain-community<0.4.0,>=0.3.0->langchain_google_community) (0.3.8)\n",
      "Requirement already satisfied: pydantic<3.0.0,>=2.7.4 in /Users/abhilashamangal/miniconda3/envs/agenticai/lib/python3.12/site-packages (from langchain<1.0.0,>=0.3.25->langchain-community<0.4.0,>=0.3.0->langchain_google_community) (2.11.5)\n",
      "Requirement already satisfied: jsonpatch<2.0,>=1.33 in /Users/abhilashamangal/miniconda3/envs/agenticai/lib/python3.12/site-packages (from langchain-core<0.4,>=0.3.0->langchain_google_community) (1.33)\n",
      "Requirement already satisfied: packaging<25,>=23.2 in /Users/abhilashamangal/miniconda3/envs/agenticai/lib/python3.12/site-packages (from langchain-core<0.4,>=0.3.0->langchain_google_community) (24.2)\n",
      "Requirement already satisfied: typing-extensions>=4.7 in /Users/abhilashamangal/miniconda3/envs/agenticai/lib/python3.12/site-packages (from langchain-core<0.4,>=0.3.0->langchain_google_community) (4.14.1)\n",
      "Requirement already satisfied: jsonpointer>=1.9 in /Users/abhilashamangal/miniconda3/envs/agenticai/lib/python3.12/site-packages (from jsonpatch<2.0,>=1.33->langchain-core<0.4,>=0.3.0->langchain_google_community) (3.0.0)\n",
      "Requirement already satisfied: httpx<1,>=0.23.0 in /Users/abhilashamangal/miniconda3/envs/agenticai/lib/python3.12/site-packages (from langsmith<0.4,>=0.1.125->langchain-community<0.4.0,>=0.3.0->langchain_google_community) (0.28.1)\n",
      "Requirement already satisfied: orjson<4.0.0,>=3.9.14 in /Users/abhilashamangal/miniconda3/envs/agenticai/lib/python3.12/site-packages (from langsmith<0.4,>=0.1.125->langchain-community<0.4.0,>=0.3.0->langchain_google_community) (3.10.18)\n",
      "Requirement already satisfied: requests-toolbelt<2.0.0,>=1.0.0 in /Users/abhilashamangal/miniconda3/envs/agenticai/lib/python3.12/site-packages (from langsmith<0.4,>=0.1.125->langchain-community<0.4.0,>=0.3.0->langchain_google_community) (1.0.0)\n",
      "Requirement already satisfied: zstandard<0.24.0,>=0.23.0 in /Users/abhilashamangal/miniconda3/envs/agenticai/lib/python3.12/site-packages (from langsmith<0.4,>=0.1.125->langchain-community<0.4.0,>=0.3.0->langchain_google_community) (0.23.0)\n",
      "Requirement already satisfied: anyio in /Users/abhilashamangal/miniconda3/envs/agenticai/lib/python3.12/site-packages (from httpx<1,>=0.23.0->langsmith<0.4,>=0.1.125->langchain-community<0.4.0,>=0.3.0->langchain_google_community) (4.9.0)\n",
      "Requirement already satisfied: certifi in /Users/abhilashamangal/miniconda3/envs/agenticai/lib/python3.12/site-packages (from httpx<1,>=0.23.0->langsmith<0.4,>=0.1.125->langchain-community<0.4.0,>=0.3.0->langchain_google_community) (2025.4.26)\n",
      "Requirement already satisfied: httpcore==1.* in /Users/abhilashamangal/miniconda3/envs/agenticai/lib/python3.12/site-packages (from httpx<1,>=0.23.0->langsmith<0.4,>=0.1.125->langchain-community<0.4.0,>=0.3.0->langchain_google_community) (1.0.9)\n",
      "Requirement already satisfied: idna in /Users/abhilashamangal/miniconda3/envs/agenticai/lib/python3.12/site-packages (from httpx<1,>=0.23.0->langsmith<0.4,>=0.1.125->langchain-community<0.4.0,>=0.3.0->langchain_google_community) (3.10)\n",
      "Requirement already satisfied: h11>=0.16 in /Users/abhilashamangal/miniconda3/envs/agenticai/lib/python3.12/site-packages (from httpcore==1.*->httpx<1,>=0.23.0->langsmith<0.4,>=0.1.125->langchain-community<0.4.0,>=0.3.0->langchain_google_community) (0.16.0)\n",
      "Requirement already satisfied: annotated-types>=0.6.0 in /Users/abhilashamangal/miniconda3/envs/agenticai/lib/python3.12/site-packages (from pydantic<3.0.0,>=2.7.4->langchain<1.0.0,>=0.3.25->langchain-community<0.4.0,>=0.3.0->langchain_google_community) (0.7.0)\n",
      "Requirement already satisfied: pydantic-core==2.33.2 in /Users/abhilashamangal/miniconda3/envs/agenticai/lib/python3.12/site-packages (from pydantic<3.0.0,>=2.7.4->langchain<1.0.0,>=0.3.25->langchain-community<0.4.0,>=0.3.0->langchain_google_community) (2.33.2)\n",
      "Requirement already satisfied: typing-inspection>=0.4.0 in /Users/abhilashamangal/miniconda3/envs/agenticai/lib/python3.12/site-packages (from pydantic<3.0.0,>=2.7.4->langchain<1.0.0,>=0.3.25->langchain-community<0.4.0,>=0.3.0->langchain_google_community) (0.4.1)\n",
      "Requirement already satisfied: python-dotenv>=0.21.0 in /Users/abhilashamangal/miniconda3/envs/agenticai/lib/python3.12/site-packages (from pydantic-settings<3.0.0,>=2.4.0->langchain-community<0.4.0,>=0.3.0->langchain_google_community) (1.1.0)\n",
      "Requirement already satisfied: charset-normalizer<4,>=2 in /Users/abhilashamangal/miniconda3/envs/agenticai/lib/python3.12/site-packages (from requests<3.0.0,>=2.18.0->google-api-core<3.0.0,>=2.24.1->langchain_google_community) (3.4.2)\n",
      "Requirement already satisfied: urllib3<3,>=1.21.1 in /Users/abhilashamangal/miniconda3/envs/agenticai/lib/python3.12/site-packages (from requests<3.0.0,>=2.18.0->google-api-core<3.0.0,>=2.24.1->langchain_google_community) (2.4.0)\n",
      "Requirement already satisfied: pyasn1>=0.1.3 in /Users/abhilashamangal/miniconda3/envs/agenticai/lib/python3.12/site-packages (from rsa<5,>=3.1.4->google-auth<3.0.0,>=2.14.1->google-api-core<3.0.0,>=2.24.1->langchain_google_community) (0.6.1)\n",
      "Requirement already satisfied: mypy-extensions>=0.3.0 in /Users/abhilashamangal/miniconda3/envs/agenticai/lib/python3.12/site-packages (from typing-inspect<1,>=0.4.0->dataclasses-json<0.7,>=0.5.7->langchain-community<0.4.0,>=0.3.0->langchain_google_community) (1.1.0)\n",
      "Requirement already satisfied: sniffio>=1.1 in /Users/abhilashamangal/miniconda3/envs/agenticai/lib/python3.12/site-packages (from anyio->httpx<1,>=0.23.0->langsmith<0.4,>=0.1.125->langchain-community<0.4.0,>=0.3.0->langchain_google_community) (1.3.1)\n",
      "Downloading langchain_google_community-2.0.7-py3-none-any.whl (99 kB)\n",
      "Downloading google_api_core-2.25.1-py3-none-any.whl (160 kB)\n",
      "Downloading google_api_python_client-2.176.0-py3-none-any.whl (13.7 MB)\n",
      "\u001b[2K   \u001b[90m━━━━━━━━━━━━━━━━━━━━━━━━━━━━━━━━━━━━━━━━\u001b[0m \u001b[32m13.7/13.7 MB\u001b[0m \u001b[31m1.7 MB/s\u001b[0m eta \u001b[36m0:00:00\u001b[0m00:01\u001b[0m00:01\u001b[0m\n",
      "\u001b[?25hDownloading google_auth_httplib2-0.2.0-py2.py3-none-any.whl (9.3 kB)\n",
      "Downloading google_cloud_core-2.4.3-py2.py3-none-any.whl (29 kB)\n",
      "Using cached httplib2-0.22.0-py3-none-any.whl (96 kB)\n",
      "Downloading proto_plus-1.26.1-py3-none-any.whl (50 kB)\n",
      "Downloading pyparsing-3.2.3-py3-none-any.whl (111 kB)\n",
      "Downloading uritemplate-4.2.0-py3-none-any.whl (11 kB)\n",
      "Installing collected packages: uritemplate, pyparsing, proto-plus, httplib2, google-auth-httplib2, google-api-core, google-cloud-core, google-api-python-client, langchain_google_community\n",
      "\u001b[2K   \u001b[90m━━━━━━━━━━━━━━━━━━━━━━━━━━━━━━━━━━━━━━━━\u001b[0m \u001b[32m9/9\u001b[0m [langchain_google_community]i-python-client]\n",
      "\u001b[1A\u001b[2KSuccessfully installed google-api-core-2.25.1 google-api-python-client-2.176.0 google-auth-httplib2-0.2.0 google-cloud-core-2.4.3 httplib2-0.22.0 langchain_google_community-2.0.7 proto-plus-1.26.1 pyparsing-3.2.3 uritemplate-4.2.0\n"
     ]
    }
   ],
   "source": [
    "!pip install langchain_google_community"
   ]
  }
 ],
 "metadata": {
  "kernelspec": {
   "display_name": "agenticai",
   "language": "python",
   "name": "python3"
  },
  "language_info": {
   "codemirror_mode": {
    "name": "ipython",
    "version": 3
   },
   "file_extension": ".py",
   "mimetype": "text/x-python",
   "name": "python",
   "nbconvert_exporter": "python",
   "pygments_lexer": "ipython3",
   "version": "3.12.9"
  }
 },
 "nbformat": 4,
 "nbformat_minor": 5
}
